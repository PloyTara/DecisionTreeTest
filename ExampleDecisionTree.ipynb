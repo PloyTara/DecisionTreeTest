{
  "nbformat": 4,
  "nbformat_minor": 0,
  "metadata": {
    "colab": {
      "name": "ExampleDecisionTree.ipynb",
      "provenance": [],
      "collapsed_sections": [],
      "authorship_tag": "ABX9TyMouZdcjbS0KNytxKXjatN6",
      "include_colab_link": true
    },
    "kernelspec": {
      "name": "python3",
      "display_name": "Python 3"
    }
  },
  "cells": [
    {
      "cell_type": "markdown",
      "metadata": {
        "id": "view-in-github",
        "colab_type": "text"
      },
      "source": [
        "<a href=\"https://colab.research.google.com/github/PloyTara/DecisionTreeTest/blob/main/ExampleDecisionTree.ipynb\" target=\"_parent\"><img src=\"https://colab.research.google.com/assets/colab-badge.svg\" alt=\"Open In Colab\"/></a>"
      ]
    },
    {
      "cell_type": "code",
      "metadata": {
        "id": "CrLya-BMVvj8"
      },
      "source": [
        "#import tree from library scikit-learn \r\n",
        "from sklearn import tree"
      ],
      "execution_count": 2,
      "outputs": []
    },
    {
      "cell_type": "code",
      "metadata": {
        "id": "kNtKQqzPXdc6"
      },
      "source": [
        "#Define training data after convert\r\n",
        "train_data = [[1,1,3,1], [2,1,3,1], [1,2,2,2], [2,2,3,2], [3,2,3,2], \r\n",
        "              [3,3,2,2], [3,2,3,1], [1,1,3,2], [2,1,2,1], [3,2,3,2]]\r\n",
        "train_label = ['No', 'Yes', 'Yes', 'Yes', 'No', \r\n",
        "               'No', 'Yes', 'No', 'Yes', 'No']"
      ],
      "execution_count": 3,
      "outputs": []
    },
    {
      "cell_type": "code",
      "metadata": {
        "id": "kXil3dGjYlxV"
      },
      "source": [
        "#create model for learning\r\n",
        "model = tree.DecisionTreeClassifier()\r\n",
        "#learn train_data with train_label\r\n",
        "model = model.fit(train_data, train_label)"
      ],
      "execution_count": 4,
      "outputs": []
    },
    {
      "cell_type": "code",
      "metadata": {
        "colab": {
          "base_uri": "https://localhost:8080/"
        },
        "id": "FaGnPDUyZHQn",
        "outputId": "94a4086c-e234-4bbb-e3bd-158253240263"
      },
      "source": [
        "#define new new data for predict\r\n",
        "newData = [[3,3,2,2]]\r\n",
        "#predict the result\r\n",
        "testPredict = model.predict(newData)\r\n",
        "print(testPredict)"
      ],
      "execution_count": 5,
      "outputs": [
        {
          "output_type": "stream",
          "text": [
            "['No']\n"
          ],
          "name": "stdout"
        }
      ]
    },
    {
      "cell_type": "code",
      "metadata": {
        "colab": {
          "base_uri": "https://localhost:8080/",
          "height": 401
        },
        "id": "nOzX_ss3aEpd",
        "outputId": "36c63fcc-66e2-4b26-e6ab-9143dff118ff"
      },
      "source": [
        "tree.plot_tree(model)"
      ],
      "execution_count": 6,
      "outputs": [
        {
          "output_type": "execute_result",
          "data": {
            "text/plain": [
              "[Text(167.4, 190.26, 'X[3] <= 1.5\\ngini = 0.5\\nsamples = 10\\nvalue = [5, 5]'),\n",
              " Text(83.7, 135.9, 'X[0] <= 1.5\\ngini = 0.375\\nsamples = 4\\nvalue = [1, 3]'),\n",
              " Text(41.85, 81.53999999999999, 'gini = 0.0\\nsamples = 1\\nvalue = [1, 0]'),\n",
              " Text(125.55000000000001, 81.53999999999999, 'gini = 0.0\\nsamples = 3\\nvalue = [0, 3]'),\n",
              " Text(251.10000000000002, 135.9, 'X[0] <= 2.5\\ngini = 0.444\\nsamples = 6\\nvalue = [4, 2]'),\n",
              " Text(209.25, 81.53999999999999, 'X[1] <= 1.5\\ngini = 0.444\\nsamples = 3\\nvalue = [1, 2]'),\n",
              " Text(167.4, 27.180000000000007, 'gini = 0.0\\nsamples = 1\\nvalue = [1, 0]'),\n",
              " Text(251.10000000000002, 27.180000000000007, 'gini = 0.0\\nsamples = 2\\nvalue = [0, 2]'),\n",
              " Text(292.95, 81.53999999999999, 'gini = 0.0\\nsamples = 3\\nvalue = [3, 0]')]"
            ]
          },
          "metadata": {
            "tags": []
          },
          "execution_count": 6
        },
        {
          "output_type": "display_data",
          "data": {
            "image/png": "[encoded data removed]",
            "text/plain": [
              "<Figure size 432x288 with 1 Axes>"
            ]
          },
          "metadata": {
            "tags": [],
            "needs_background": "light"
          }
        }
      ]
    }
  ]
}