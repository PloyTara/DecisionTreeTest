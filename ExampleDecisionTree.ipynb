{
  "nbformat": 4,
  "nbformat_minor": 0,
  "metadata": {
    "colab": {
      "name": "ExampleDecisionTree.ipynb",
      "provenance": [],
      "collapsed_sections": [],
      "include_colab_link": true
    },
    "kernelspec": {
      "name": "python3",
      "display_name": "Python 3"
    }
  },
  "cells": [
    {
      "cell_type": "markdown",
      "metadata": {
        "id": "view-in-github",
        "colab_type": "text"
      },
      "source": [
        "<a href=\"https://colab.research.google.com/github/PloyTara/DecisionTreeTest/blob/main/ExampleDecisionTree.ipynb\" target=\"_parent\"><img src=\"https://colab.research.google.com/assets/colab-badge.svg\" alt=\"Open In Colab\"/></a>"
      ]
    },
    {
      "cell_type": "code",
      "metadata": {
        "id": "CrLya-BMVvj8"
      },
      "source": [
        "#import tree from library scikit-learn \r\n",
        "from sklearn import tree"
      ],
      "execution_count": null,
      "outputs": []
    },
    {
      "cell_type": "code",
      "metadata": {
        "id": "kNtKQqzPXdc6"
      },
      "source": [
        "#Define training data after convert\r\n",
        "train_data = [[1,1,3,1], [2,1,3,1], [1,2,2,2], [2,2,3,2], [3,2,3,2], \r\n",
        "              [3,3,2,2], [3,2,3,1], [1,1,3,2], [2,1,2,1], [3,2,3,2]]\r\n",
        "train_label = ['No', 'Yes', 'Yes', 'Yes', 'No', \r\n",
        "               'No', 'Yes', 'No', 'Yes', 'No']"
      ],
      "execution_count": null,
      "outputs": []
    },
    {
      "cell_type": "code",
      "metadata": {
        "id": "kXil3dGjYlxV"
      },
      "source": [
        "#create model for learning\r\n",
        "model = tree.DecisionTreeClassifier()\r\n",
        "#learn train_data with train_label\r\n",
        "model = model.fit(train_data, train_label)"
      ],
      "execution_count": null,
      "outputs": []
    },
    {
      "cell_type": "code",
      "metadata": {
        "id": "FaGnPDUyZHQn"
      },
      "source": [
        "#define new new data for predict\r\n",
        "newData = [[3,3,2,2]]\r\n",
        "#predict the result\r\n",
        "testPredict = model.predict(newData)\r\n",
        "print(testPredict)"
      ],
      "execution_count": null,
      "outputs": []
    },
    {
      "cell_type": "code",
      "metadata": {
        "id": "nOzX_ss3aEpd"
      },
      "source": [
        "tree.plot_tree(model)"
      ],
      "execution_count": null,
      "outputs": []
    }
  ]
}